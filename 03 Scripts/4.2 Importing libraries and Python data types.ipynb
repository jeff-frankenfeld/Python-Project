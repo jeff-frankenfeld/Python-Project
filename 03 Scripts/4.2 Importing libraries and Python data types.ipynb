{
 "cells": [
  {
   "cell_type": "markdown",
   "id": "aeeda3cb-dc94-42a5-811a-a4113d028bf0",
   "metadata": {},
   "source": [
    "# 01. Importing libraries"
   ]
  },
  {
   "cell_type": "code",
   "execution_count": 3,
   "id": "84bc7cf8-cdad-41c9-88fd-596f1ffecb7e",
   "metadata": {},
   "outputs": [],
   "source": [
    "# Import libraries\n",
    "import pandas as pd\n",
    "import numpy as np\n",
    "import os"
   ]
  },
  {
   "cell_type": "markdown",
   "id": "47f473a8-3768-465e-acb4-1e9246de666f",
   "metadata": {},
   "source": [
    "# 02. Python data types"
   ]
  },
  {
   "cell_type": "markdown",
   "id": "8ceb97fd-34a5-447e-a95d-7cc76822896a",
   "metadata": {},
   "source": [
    "## Result of 100 - numeric variables"
   ]
  },
  {
   "cell_type": "code",
   "execution_count": 8,
   "id": "e898ee8a-d3ce-4630-a707-d0f6dad61344",
   "metadata": {},
   "outputs": [],
   "source": [
    "x = 50"
   ]
  },
  {
   "cell_type": "code",
   "execution_count": 12,
   "id": "481e8213-e8a2-4517-95a9-5624bd401442",
   "metadata": {},
   "outputs": [],
   "source": [
    "y = 30"
   ]
  },
  {
   "cell_type": "code",
   "execution_count": 14,
   "id": "b6e83376-3db8-42f5-afe4-5736f2f69b6d",
   "metadata": {},
   "outputs": [],
   "source": [
    "z = 20"
   ]
  },
  {
   "cell_type": "code",
   "execution_count": 16,
   "id": "e87c3a26-9152-48ac-9efe-3d3667aab388",
   "metadata": {},
   "outputs": [
    {
     "name": "stdout",
     "output_type": "stream",
     "text": [
      "100\n"
     ]
    }
   ],
   "source": [
    "print(x + y + z) "
   ]
  },
  {
   "cell_type": "code",
   "execution_count": 18,
   "id": "19631fe1-2df4-4528-b00f-c2107f5dff21",
   "metadata": {},
   "outputs": [],
   "source": [
    "x = 150"
   ]
  },
  {
   "cell_type": "code",
   "execution_count": 20,
   "id": "cb392b3a-6189-4d81-85d3-2149c373d838",
   "metadata": {},
   "outputs": [],
   "source": [
    "y = 50"
   ]
  },
  {
   "cell_type": "code",
   "execution_count": 22,
   "id": "37cce12b-b7d1-4708-867d-4e414eaba8f3",
   "metadata": {},
   "outputs": [
    {
     "data": {
      "text/plain": [
       "100"
      ]
     },
     "execution_count": 22,
     "metadata": {},
     "output_type": "execute_result"
    }
   ],
   "source": [
    "x - y"
   ]
  },
  {
   "cell_type": "code",
   "execution_count": 30,
   "id": "2f036f61-238c-4152-aa27-3acd50754b9e",
   "metadata": {},
   "outputs": [],
   "source": [
    "x = 70"
   ]
  },
  {
   "cell_type": "code",
   "execution_count": 32,
   "id": "468d9deb-a84f-4176-a7f0-76daa6110315",
   "metadata": {},
   "outputs": [
    {
     "name": "stdout",
     "output_type": "stream",
     "text": [
      "100\n"
     ]
    }
   ],
   "source": [
    "print(x+30)"
   ]
  },
  {
   "cell_type": "markdown",
   "id": "450d263c-027a-4d6b-8cc6-dc19ddc0d52b",
   "metadata": {},
   "source": [
    "## Floating-point numbers"
   ]
  },
  {
   "cell_type": "code",
   "execution_count": 1,
   "id": "79406fc6-6540-4bc7-b9df-efad01d33f9d",
   "metadata": {},
   "outputs": [],
   "source": [
    "y = 10.50"
   ]
  },
  {
   "cell_type": "code",
   "execution_count": 3,
   "id": "30616cf8-c237-47fb-bacc-f835774b4784",
   "metadata": {},
   "outputs": [],
   "source": [
    "x = 2.25"
   ]
  },
  {
   "cell_type": "code",
   "execution_count": 5,
   "id": "12b4f51a-c528-4568-9721-dd5b5317fceb",
   "metadata": {},
   "outputs": [
    {
     "name": "stdout",
     "output_type": "stream",
     "text": [
      "4.666666666666667\n"
     ]
    }
   ],
   "source": [
    "print(y/x)"
   ]
  },
  {
   "cell_type": "markdown",
   "id": "13d190fe-e4b5-4927-87a1-48e2d3651df6",
   "metadata": {},
   "source": [
    "## Strings"
   ]
  },
  {
   "cell_type": "markdown",
   "id": "70ff5423-4a02-451e-a269-55624e7f8f86",
   "metadata": {},
   "source": [
    "### word"
   ]
  },
  {
   "cell_type": "code",
   "execution_count": 8,
   "id": "285618cc-7555-49c6-b354-1e647826bd0b",
   "metadata": {},
   "outputs": [],
   "source": [
    "letter1 = 'h'"
   ]
  },
  {
   "cell_type": "code",
   "execution_count": 10,
   "id": "17a65fa8-5a02-4ab6-a996-dfc86c6a079f",
   "metadata": {},
   "outputs": [],
   "source": [
    "letter2 = 'e'"
   ]
  },
  {
   "cell_type": "code",
   "execution_count": 12,
   "id": "246dae9f-03f1-4e29-b813-afe9197da99c",
   "metadata": {},
   "outputs": [],
   "source": [
    "letter3 = 'l'"
   ]
  },
  {
   "cell_type": "code",
   "execution_count": 16,
   "id": "c6602077-62e7-4aef-bcab-d2eca397e72c",
   "metadata": {},
   "outputs": [],
   "source": [
    "letter4 = 'o'"
   ]
  },
  {
   "cell_type": "code",
   "execution_count": 18,
   "id": "6a602041-1726-47ba-8573-2a3c0a4a0b4c",
   "metadata": {},
   "outputs": [],
   "source": [
    "word = letter1+letter2+letter3+letter3+letter4"
   ]
  },
  {
   "cell_type": "code",
   "execution_count": 20,
   "id": "337abeec-527f-4fe4-a638-b60f86ec21cb",
   "metadata": {},
   "outputs": [
    {
     "name": "stdout",
     "output_type": "stream",
     "text": [
      "hello\n"
     ]
    }
   ],
   "source": [
    "print(word)"
   ]
  },
  {
   "cell_type": "markdown",
   "id": "1ced4eaf-b1e8-4ec9-94a1-f35d9ff65cfa",
   "metadata": {},
   "source": [
    "### sentence"
   ]
  },
  {
   "cell_type": "code",
   "execution_count": 22,
   "id": "9b845b5e-fd3e-4b1c-b7a8-234d504ae18c",
   "metadata": {},
   "outputs": [],
   "source": [
    "part1_1 = 'I '"
   ]
  },
  {
   "cell_type": "code",
   "execution_count": 26,
   "id": "71258ea1-4108-4086-a91e-325d75d9702e",
   "metadata": {},
   "outputs": [],
   "source": [
    "part1_2 = 'live '"
   ]
  },
  {
   "cell_type": "code",
   "execution_count": 28,
   "id": "def5574e-9fa7-4ea5-9157-b97a8f95374a",
   "metadata": {},
   "outputs": [],
   "source": [
    "part1_3 = 'in '"
   ]
  },
  {
   "cell_type": "code",
   "execution_count": 30,
   "id": "493b3140-70e3-4e41-9648-53cfc4552bc9",
   "metadata": {},
   "outputs": [],
   "source": [
    "part1_4 = 'Colorado.'"
   ]
  },
  {
   "cell_type": "code",
   "execution_count": 32,
   "id": "19fb75ff-6961-4282-b760-26433c3b48e5",
   "metadata": {},
   "outputs": [],
   "source": [
    "sentence1 = part1_1 + part1_2 + part1_3 + part1_4"
   ]
  },
  {
   "cell_type": "code",
   "execution_count": 34,
   "id": "3714d89d-c3b0-4c64-9126-4f855352f8f3",
   "metadata": {},
   "outputs": [],
   "source": [
    "part2_1 = 'It '"
   ]
  },
  {
   "cell_type": "code",
   "execution_count": 36,
   "id": "123fba5d-9c1f-447f-be57-6be291a19bd0",
   "metadata": {},
   "outputs": [],
   "source": [
    "part2_2 = 'is '"
   ]
  },
  {
   "cell_type": "code",
   "execution_count": 38,
   "id": "3d6b7e81-7e1d-4c47-99fc-4686dc946b68",
   "metadata": {},
   "outputs": [],
   "source": [
    "part2_3 = 'sunny '"
   ]
  },
  {
   "cell_type": "code",
   "execution_count": 40,
   "id": "c7320adb-85d7-414b-8f5a-9774b081763b",
   "metadata": {},
   "outputs": [],
   "source": [
    "part2_4 = 'today.'"
   ]
  },
  {
   "cell_type": "code",
   "execution_count": 42,
   "id": "d1413510-b8a1-4b1a-8623-3197444639bf",
   "metadata": {},
   "outputs": [],
   "source": [
    "sentence2 = part2_1 + part2_2 + part2_3 + part2_4"
   ]
  },
  {
   "cell_type": "code",
   "execution_count": 44,
   "id": "0cc33184-fcb4-4ec0-bd2a-60dee85df6e9",
   "metadata": {},
   "outputs": [
    {
     "name": "stdout",
     "output_type": "stream",
     "text": [
      "I live in Colorado.\n",
      "It is sunny today.\n"
     ]
    }
   ],
   "source": [
    "print(sentence1)\n",
    "print(sentence2)"
   ]
  },
  {
   "cell_type": "markdown",
   "id": "d68096ef-ada7-4e8f-a886-59b7645aa63a",
   "metadata": {},
   "source": [
    "## Bonus task"
   ]
  },
  {
   "cell_type": "code",
   "execution_count": 52,
   "id": "4bf4ad7a-699d-4716-b864-303c52946bd0",
   "metadata": {},
   "outputs": [],
   "source": [
    "c = 'cat'"
   ]
  },
  {
   "cell_type": "code",
   "execution_count": 56,
   "id": "0520335e-3ac2-4994-981c-8c591767c0aa",
   "metadata": {},
   "outputs": [
    {
     "name": "stdout",
     "output_type": "stream",
     "text": [
      "catcatcatcatcatcatcatcatcatcatcatcatcatcatcatcatcatcatcatcatcatcatcatcatcatcatcatcatcatcatcatcatcatcatcatcatcatcatcatcatcatcatcatcatcatcatcatcatcatcatcatcatcatcatcatcatcatcatcatcatcatcatcatcatcatcatcatcatcatcatcatcatcatcatcatcatcatcatcatcatcatcatcatcatcatcatcatcatcatcatcatcatcatcatcatcatcatcatcatcat\n"
     ]
    }
   ],
   "source": [
    "print(c * 100)"
   ]
  }
 ],
 "metadata": {
  "kernelspec": {
   "display_name": "Python 3 (ipykernel)",
   "language": "python",
   "name": "python3"
  },
  "language_info": {
   "codemirror_mode": {
    "name": "ipython",
    "version": 3
   },
   "file_extension": ".py",
   "mimetype": "text/x-python",
   "name": "python",
   "nbconvert_exporter": "python",
   "pygments_lexer": "ipython3",
   "version": "3.11.7"
  }
 },
 "nbformat": 4,
 "nbformat_minor": 5
}
